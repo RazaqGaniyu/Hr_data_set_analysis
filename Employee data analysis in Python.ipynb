{
 "cells": [
  {
   "cell_type": "markdown",
   "id": "4c88f8bc",
   "metadata": {},
   "source": [
    "# ANALYSIS OF EMPLOYEE DATA"
   ]
  },
  {
   "cell_type": "code",
   "execution_count": 1,
   "id": "f8fe6b48",
   "metadata": {},
   "outputs": [],
   "source": [
    "#importing operating system module\n",
    "import os\n",
    "\n",
    "#importing pandas library\n",
    "import pandas as pd\n",
    "\n",
    "#importing list directory from os\n",
    "from os import listdir\n",
    "\n",
    "\n",
    "    "
   ]
  },
  {
   "cell_type": "code",
   "execution_count": 31,
   "id": "0e51c975",
   "metadata": {},
   "outputs": [
    {
     "name": "stdout",
     "output_type": "stream",
     "text": [
      "C:\\WINDOWS\\system32\n"
     ]
    }
   ],
   "source": [
    "#identifying current working directory\n",
    "print(os.getcwd())"
   ]
  },
  {
   "cell_type": "code",
   "execution_count": 32,
   "id": "509f977e",
   "metadata": {},
   "outputs": [
    {
     "name": "stdout",
     "output_type": "stream",
     "text": [
      "<class 'pandas.core.frame.DataFrame'>\n",
      "RangeIndex: 474 entries, 0 to 473\n",
      "Data columns (total 9 columns):\n",
      " #   Column    Non-Null Count  Dtype \n",
      "---  ------    --------------  ----- \n",
      " 0   id        474 non-null    int64 \n",
      " 1   gender    474 non-null    object\n",
      " 2   educ      474 non-null    int64 \n",
      " 3   jobcat    474 non-null    int64 \n",
      " 4   salary    474 non-null    int64 \n",
      " 5   salbegin  474 non-null    int64 \n",
      " 6   jobtime   474 non-null    int64 \n",
      " 7   prevexp   474 non-null    int64 \n",
      " 8   minority  474 non-null    int64 \n",
      "dtypes: int64(8), object(1)\n",
      "memory usage: 33.5+ KB\n"
     ]
    }
   ],
   "source": [
    "#loading employee data into pandas\n",
    "employee_data = pd.read_csv(\"C:\\WINDOWS\\system32\\Employee data (1).csv\")\n",
    "\n",
    "#checking the data type of column headers\n",
    "employee_data.info()"
   ]
  },
  {
   "cell_type": "code",
   "execution_count": 34,
   "id": "3e272403",
   "metadata": {},
   "outputs": [
    {
     "data": {
      "text/plain": [
       "(474, 9)"
      ]
     },
     "execution_count": 34,
     "metadata": {},
     "output_type": "execute_result"
    }
   ],
   "source": [
    "#checking the shape of the employee data - 474 rows and 9 columns\n",
    "employee_data.shape"
   ]
  },
  {
   "cell_type": "markdown",
   "id": "bfe6d73a",
   "metadata": {},
   "source": [
    "we have 474 observations and 9 variables in employee data."
   ]
  },
  {
   "cell_type": "code",
   "execution_count": 37,
   "id": "8679d365",
   "metadata": {},
   "outputs": [
    {
     "name": "stdout",
     "output_type": "stream",
     "text": [
      "id          False\n",
      "gender      False\n",
      "educ        False\n",
      "jobcat      False\n",
      "salary      False\n",
      "salbegin    False\n",
      "jobtime     False\n",
      "prevexp     False\n",
      "minority    False\n",
      "dtype: bool\n"
     ]
    }
   ],
   "source": [
    "#finding out if we have missing value; boolean response - no missing value(s) in  employee data\n",
    "print(employee_data.isnull().any(axis = 0))"
   ]
  },
  {
   "cell_type": "markdown",
   "id": "15501717",
   "metadata": {},
   "source": [
    "There are no missing values in this data"
   ]
  },
  {
   "cell_type": "code",
   "execution_count": 35,
   "id": "7bd82566",
   "metadata": {},
   "outputs": [
    {
     "data": {
      "text/html": [
       "<div>\n",
       "<style scoped>\n",
       "    .dataframe tbody tr th:only-of-type {\n",
       "        vertical-align: middle;\n",
       "    }\n",
       "\n",
       "    .dataframe tbody tr th {\n",
       "        vertical-align: top;\n",
       "    }\n",
       "\n",
       "    .dataframe thead th {\n",
       "        text-align: right;\n",
       "    }\n",
       "</style>\n",
       "<table border=\"1\" class=\"dataframe\">\n",
       "  <thead>\n",
       "    <tr style=\"text-align: right;\">\n",
       "      <th></th>\n",
       "      <th>gender</th>\n",
       "    </tr>\n",
       "  </thead>\n",
       "  <tbody>\n",
       "    <tr>\n",
       "      <th>count</th>\n",
       "      <td>474</td>\n",
       "    </tr>\n",
       "    <tr>\n",
       "      <th>unique</th>\n",
       "      <td>2</td>\n",
       "    </tr>\n",
       "    <tr>\n",
       "      <th>top</th>\n",
       "      <td>m</td>\n",
       "    </tr>\n",
       "    <tr>\n",
       "      <th>freq</th>\n",
       "      <td>258</td>\n",
       "    </tr>\n",
       "  </tbody>\n",
       "</table>\n",
       "</div>"
      ],
      "text/plain": [
       "       gender\n",
       "count     474\n",
       "unique      2\n",
       "top         m\n",
       "freq      258"
      ]
     },
     "execution_count": 35,
     "metadata": {},
     "output_type": "execute_result"
    }
   ],
   "source": [
    "# information about objects \n",
    "employee_data.describe(include = 'object')"
   ]
  },
  {
   "cell_type": "markdown",
   "id": "997cdf35",
   "metadata": {},
   "source": [
    "gender is a string (words - m & f) and there is a need to convert to integer for the purpose of statistical analysis"
   ]
  },
  {
   "cell_type": "code",
   "execution_count": 45,
   "id": "fbe343e2",
   "metadata": {},
   "outputs": [
    {
     "name": "stdout",
     "output_type": "stream",
     "text": [
      "     gender   id  educ  jobcat  salary  salbegin  jobtime  prevexp  minority\n",
      "0         1    1    15       3   57000     27000       98      144         0\n",
      "1         1    2    16       1   40200     18750       98       36         0\n",
      "2         0    3    12       1   21450     12000       98      381         0\n",
      "3         0    4     8       1   21900     13200       98      190         0\n",
      "4         1    5    15       1   45000     21000       98      138         0\n",
      "..      ...  ...   ...     ...     ...       ...      ...      ...       ...\n",
      "469       1  446    16       3  100000     44100       66      128         1\n",
      "470       1  447    15       1   49000     20550       66       86         1\n",
      "471       0  448    12       1   16350     10200       66      163         1\n",
      "472       1  470    12       1   26250     15750       64       69         1\n",
      "473       1  471    15       1   26400     15750       64       32         1\n",
      "\n",
      "[474 rows x 9 columns]\n"
     ]
    }
   ],
   "source": [
    "#changing data type of gender(string) to integer - where male = 1, and female = 0 by generating dummy variables\n",
    "employee_data1 = pd.get_dummies(employee_data[\"gender\"])\n",
    "employee_data2 = pd.concat((employee_data1, employee_data), axis=1) #concactenate binary data into dataframe\n",
    "employee_data2 = employee_data2.drop([\"gender\"], axis=1)\n",
    "employee_data2 = employee_data2.drop([\"f\"], axis=1)\n",
    "employee_data_new = employee_data2.rename(columns={\"m\": \"gender\"})\n",
    "\n",
    "print(employee_data_new)\n"
   ]
  },
  {
   "cell_type": "code",
   "execution_count": 72,
   "id": "c34d46fe",
   "metadata": {},
   "outputs": [
    {
     "name": "stdout",
     "output_type": "stream",
     "text": [
      "<class 'pandas.core.frame.DataFrame'>\n",
      "RangeIndex: 474 entries, 0 to 473\n",
      "Data columns (total 9 columns):\n",
      " #   Column    Non-Null Count  Dtype\n",
      "---  ------    --------------  -----\n",
      " 0   gender    474 non-null    uint8\n",
      " 1   id        474 non-null    int64\n",
      " 2   educ      474 non-null    int64\n",
      " 3   jobcat    474 non-null    int64\n",
      " 4   salary    474 non-null    int64\n",
      " 5   salbegin  474 non-null    int64\n",
      " 6   jobtime   474 non-null    int64\n",
      " 7   prevexp   474 non-null    int64\n",
      " 8   minority  474 non-null    int64\n",
      "dtypes: int64(8), uint8(1)\n",
      "memory usage: 30.2 KB\n"
     ]
    }
   ],
   "source": [
    "#confirming data type of gender\n",
    "employee_data_new.info()"
   ]
  },
  {
   "cell_type": "code",
   "execution_count": 105,
   "id": "96e3679e",
   "metadata": {},
   "outputs": [
    {
     "data": {
      "text/html": [
       "<div>\n",
       "<style scoped>\n",
       "    .dataframe tbody tr th:only-of-type {\n",
       "        vertical-align: middle;\n",
       "    }\n",
       "\n",
       "    .dataframe tbody tr th {\n",
       "        vertical-align: top;\n",
       "    }\n",
       "\n",
       "    .dataframe thead th {\n",
       "        text-align: right;\n",
       "    }\n",
       "</style>\n",
       "<table border=\"1\" class=\"dataframe\">\n",
       "  <thead>\n",
       "    <tr style=\"text-align: right;\">\n",
       "      <th></th>\n",
       "      <th>gender</th>\n",
       "      <th>id</th>\n",
       "      <th>educ</th>\n",
       "      <th>jobcat</th>\n",
       "      <th>salary</th>\n",
       "      <th>salbegin</th>\n",
       "      <th>jobtime</th>\n",
       "      <th>prevexp</th>\n",
       "      <th>minority</th>\n",
       "    </tr>\n",
       "  </thead>\n",
       "  <tbody>\n",
       "    <tr>\n",
       "      <th>count</th>\n",
       "      <td>474.00</td>\n",
       "      <td>474.00</td>\n",
       "      <td>474.00</td>\n",
       "      <td>474.00</td>\n",
       "      <td>474.00</td>\n",
       "      <td>474.00</td>\n",
       "      <td>474.00</td>\n",
       "      <td>474.00</td>\n",
       "      <td>474.00</td>\n",
       "    </tr>\n",
       "    <tr>\n",
       "      <th>mean</th>\n",
       "      <td>0.54</td>\n",
       "      <td>237.50</td>\n",
       "      <td>13.49</td>\n",
       "      <td>1.41</td>\n",
       "      <td>34419.57</td>\n",
       "      <td>17016.09</td>\n",
       "      <td>81.11</td>\n",
       "      <td>95.86</td>\n",
       "      <td>0.22</td>\n",
       "    </tr>\n",
       "    <tr>\n",
       "      <th>std</th>\n",
       "      <td>0.50</td>\n",
       "      <td>136.98</td>\n",
       "      <td>2.88</td>\n",
       "      <td>0.77</td>\n",
       "      <td>17075.66</td>\n",
       "      <td>7870.64</td>\n",
       "      <td>10.06</td>\n",
       "      <td>104.59</td>\n",
       "      <td>0.41</td>\n",
       "    </tr>\n",
       "    <tr>\n",
       "      <th>min</th>\n",
       "      <td>0.00</td>\n",
       "      <td>1.00</td>\n",
       "      <td>8.00</td>\n",
       "      <td>1.00</td>\n",
       "      <td>15750.00</td>\n",
       "      <td>9000.00</td>\n",
       "      <td>63.00</td>\n",
       "      <td>0.00</td>\n",
       "      <td>0.00</td>\n",
       "    </tr>\n",
       "    <tr>\n",
       "      <th>25%</th>\n",
       "      <td>0.00</td>\n",
       "      <td>119.25</td>\n",
       "      <td>12.00</td>\n",
       "      <td>1.00</td>\n",
       "      <td>24000.00</td>\n",
       "      <td>12487.50</td>\n",
       "      <td>72.00</td>\n",
       "      <td>19.25</td>\n",
       "      <td>0.00</td>\n",
       "    </tr>\n",
       "    <tr>\n",
       "      <th>50%</th>\n",
       "      <td>1.00</td>\n",
       "      <td>237.50</td>\n",
       "      <td>12.00</td>\n",
       "      <td>1.00</td>\n",
       "      <td>28875.00</td>\n",
       "      <td>15000.00</td>\n",
       "      <td>81.00</td>\n",
       "      <td>55.00</td>\n",
       "      <td>0.00</td>\n",
       "    </tr>\n",
       "    <tr>\n",
       "      <th>75%</th>\n",
       "      <td>1.00</td>\n",
       "      <td>355.75</td>\n",
       "      <td>15.00</td>\n",
       "      <td>1.00</td>\n",
       "      <td>36937.50</td>\n",
       "      <td>17490.00</td>\n",
       "      <td>90.00</td>\n",
       "      <td>138.75</td>\n",
       "      <td>0.00</td>\n",
       "    </tr>\n",
       "    <tr>\n",
       "      <th>max</th>\n",
       "      <td>1.00</td>\n",
       "      <td>474.00</td>\n",
       "      <td>21.00</td>\n",
       "      <td>3.00</td>\n",
       "      <td>135000.00</td>\n",
       "      <td>79980.00</td>\n",
       "      <td>98.00</td>\n",
       "      <td>476.00</td>\n",
       "      <td>1.00</td>\n",
       "    </tr>\n",
       "  </tbody>\n",
       "</table>\n",
       "</div>"
      ],
      "text/plain": [
       "       gender      id    educ  jobcat     salary  salbegin  jobtime  prevexp  \\\n",
       "count  474.00  474.00  474.00  474.00     474.00    474.00   474.00   474.00   \n",
       "mean     0.54  237.50   13.49    1.41   34419.57  17016.09    81.11    95.86   \n",
       "std      0.50  136.98    2.88    0.77   17075.66   7870.64    10.06   104.59   \n",
       "min      0.00    1.00    8.00    1.00   15750.00   9000.00    63.00     0.00   \n",
       "25%      0.00  119.25   12.00    1.00   24000.00  12487.50    72.00    19.25   \n",
       "50%      1.00  237.50   12.00    1.00   28875.00  15000.00    81.00    55.00   \n",
       "75%      1.00  355.75   15.00    1.00   36937.50  17490.00    90.00   138.75   \n",
       "max      1.00  474.00   21.00    3.00  135000.00  79980.00    98.00   476.00   \n",
       "\n",
       "       minority  \n",
       "count    474.00  \n",
       "mean       0.22  \n",
       "std        0.41  \n",
       "min        0.00  \n",
       "25%        0.00  \n",
       "50%        0.00  \n",
       "75%        0.00  \n",
       "max        1.00  "
      ]
     },
     "execution_count": 105,
     "metadata": {},
     "output_type": "execute_result"
    }
   ],
   "source": [
    "#conducting descriptive statistics for new employee data\n",
    "employee_data_new.describe().round(2)"
   ]
  },
  {
   "cell_type": "markdown",
   "id": "452b56e2",
   "metadata": {},
   "source": [
    "Interesting to note by logical reasoning that:\n",
    "\n",
    "Males are about 54.4% of the population - 258 compared to 216 for females as seen in the average of the descriptive statistics.\n",
    "\n",
    "75% quartile (36,937) for salaries is not far from the mean of 34,419. This shows the presence of high salary earners i.e. outliers (leaning towards  the maximum value of 135,000). This is also true for salbegin and gives an insight into the company's salary structure.\n",
    "\n",
    "Minority representation is about 22% has shown by the mean which translates to 104 staff (we are able to reach this \n",
    "conclusion for gender and minority due to the binary nature of the data i.e. male = 1, female = 0 and minority = 1 and non-minority = 0)."
   ]
  },
  {
   "cell_type": "code",
   "execution_count": 76,
   "id": "0b304132",
   "metadata": {},
   "outputs": [
    {
     "name": "stderr",
     "output_type": "stream",
     "text": [
      "C:\\ProgramData\\Anaconda3\\lib\\site-packages\\seaborn\\distributions.py:2619: FutureWarning: `distplot` is a deprecated function and will be removed in a future version. Please adapt your code to use either `displot` (a figure-level function with similar flexibility) or `histplot` (an axes-level function for histograms).\n",
      "  warnings.warn(msg, FutureWarning)\n"
     ]
    },
    {
     "data": {
      "text/plain": [
       "<AxesSubplot:xlabel='salary', ylabel='Density'>"
      ]
     },
     "execution_count": 76,
     "metadata": {},
     "output_type": "execute_result"
    },
    {
     "data": {
      "image/png": "[encoded data removed]",
      "text/plain": [
       "<Figure size 432x288 with 1 Axes>"
      ]
     },
     "metadata": {
      "needs_background": "light"
     },
     "output_type": "display_data"
    }
   ],
   "source": [
    "# initialize the libraries for visualization\n",
    "import seaborn as sns\n",
    "import matplotlib.pyplot as plt\n",
    "\n",
    "#distplot of salary in employee data       \n",
    "sns.distplot(employee_data_new[\"salary\"])"
   ]
  },
  {
   "cell_type": "markdown",
   "id": "31d462fd",
   "metadata": {},
   "source": [
    "The distribution above is positively skewed indicating there are outliers forcing the mean towards the right."
   ]
  },
  {
   "cell_type": "code",
   "execution_count": 52,
   "id": "0bbf2798",
   "metadata": {},
   "outputs": [
    {
     "data": {
      "text/html": [
       "<div>\n",
       "<style scoped>\n",
       "    .dataframe tbody tr th:only-of-type {\n",
       "        vertical-align: middle;\n",
       "    }\n",
       "\n",
       "    .dataframe tbody tr th {\n",
       "        vertical-align: top;\n",
       "    }\n",
       "\n",
       "    .dataframe thead th {\n",
       "        text-align: right;\n",
       "    }\n",
       "</style>\n",
       "<table border=\"1\" class=\"dataframe\">\n",
       "  <thead>\n",
       "    <tr style=\"text-align: right;\">\n",
       "      <th></th>\n",
       "      <th>gender</th>\n",
       "      <th>id</th>\n",
       "      <th>educ</th>\n",
       "      <th>jobcat</th>\n",
       "      <th>salary</th>\n",
       "      <th>salbegin</th>\n",
       "      <th>jobtime</th>\n",
       "      <th>prevexp</th>\n",
       "      <th>minority</th>\n",
       "    </tr>\n",
       "  </thead>\n",
       "  <tbody>\n",
       "    <tr>\n",
       "      <th>gender</th>\n",
       "      <td>1.000000</td>\n",
       "      <td>-0.079470</td>\n",
       "      <td>0.355986</td>\n",
       "      <td>0.377660</td>\n",
       "      <td>0.449923</td>\n",
       "      <td>0.456676</td>\n",
       "      <td>0.066467</td>\n",
       "      <td>0.164857</td>\n",
       "      <td>0.075668</td>\n",
       "    </tr>\n",
       "    <tr>\n",
       "      <th>id</th>\n",
       "      <td>-0.079470</td>\n",
       "      <td>1.000000</td>\n",
       "      <td>-0.057212</td>\n",
       "      <td>-0.013504</td>\n",
       "      <td>-0.095544</td>\n",
       "      <td>0.007812</td>\n",
       "      <td>-0.998186</td>\n",
       "      <td>-0.003417</td>\n",
       "      <td>-0.032338</td>\n",
       "    </tr>\n",
       "    <tr>\n",
       "      <th>educ</th>\n",
       "      <td>0.355986</td>\n",
       "      <td>-0.057212</td>\n",
       "      <td>1.000000</td>\n",
       "      <td>0.513854</td>\n",
       "      <td>0.660559</td>\n",
       "      <td>0.633196</td>\n",
       "      <td>0.047379</td>\n",
       "      <td>-0.252353</td>\n",
       "      <td>-0.132889</td>\n",
       "    </tr>\n",
       "    <tr>\n",
       "      <th>jobcat</th>\n",
       "      <td>0.377660</td>\n",
       "      <td>-0.013504</td>\n",
       "      <td>0.513854</td>\n",
       "      <td>1.000000</td>\n",
       "      <td>0.780115</td>\n",
       "      <td>0.754662</td>\n",
       "      <td>0.005329</td>\n",
       "      <td>0.062645</td>\n",
       "      <td>-0.143781</td>\n",
       "    </tr>\n",
       "    <tr>\n",
       "      <th>salary</th>\n",
       "      <td>0.449923</td>\n",
       "      <td>-0.095544</td>\n",
       "      <td>0.660559</td>\n",
       "      <td>0.780115</td>\n",
       "      <td>1.000000</td>\n",
       "      <td>0.880117</td>\n",
       "      <td>0.084092</td>\n",
       "      <td>-0.097467</td>\n",
       "      <td>-0.177337</td>\n",
       "    </tr>\n",
       "    <tr>\n",
       "      <th>salbegin</th>\n",
       "      <td>0.456676</td>\n",
       "      <td>0.007812</td>\n",
       "      <td>0.633196</td>\n",
       "      <td>0.754662</td>\n",
       "      <td>0.880117</td>\n",
       "      <td>1.000000</td>\n",
       "      <td>-0.019753</td>\n",
       "      <td>0.045136</td>\n",
       "      <td>-0.157598</td>\n",
       "    </tr>\n",
       "    <tr>\n",
       "      <th>jobtime</th>\n",
       "      <td>0.066467</td>\n",
       "      <td>-0.998186</td>\n",
       "      <td>0.047379</td>\n",
       "      <td>0.005329</td>\n",
       "      <td>0.084092</td>\n",
       "      <td>-0.019753</td>\n",
       "      <td>1.000000</td>\n",
       "      <td>0.002978</td>\n",
       "      <td>0.049501</td>\n",
       "    </tr>\n",
       "    <tr>\n",
       "      <th>prevexp</th>\n",
       "      <td>0.164857</td>\n",
       "      <td>-0.003417</td>\n",
       "      <td>-0.252353</td>\n",
       "      <td>0.062645</td>\n",
       "      <td>-0.097467</td>\n",
       "      <td>0.045136</td>\n",
       "      <td>0.002978</td>\n",
       "      <td>1.000000</td>\n",
       "      <td>0.144747</td>\n",
       "    </tr>\n",
       "    <tr>\n",
       "      <th>minority</th>\n",
       "      <td>0.075668</td>\n",
       "      <td>-0.032338</td>\n",
       "      <td>-0.132889</td>\n",
       "      <td>-0.143781</td>\n",
       "      <td>-0.177337</td>\n",
       "      <td>-0.157598</td>\n",
       "      <td>0.049501</td>\n",
       "      <td>0.144747</td>\n",
       "      <td>1.000000</td>\n",
       "    </tr>\n",
       "  </tbody>\n",
       "</table>\n",
       "</div>"
      ],
      "text/plain": [
       "            gender        id      educ    jobcat    salary  salbegin  \\\n",
       "gender    1.000000 -0.079470  0.355986  0.377660  0.449923  0.456676   \n",
       "id       -0.079470  1.000000 -0.057212 -0.013504 -0.095544  0.007812   \n",
       "educ      0.355986 -0.057212  1.000000  0.513854  0.660559  0.633196   \n",
       "jobcat    0.377660 -0.013504  0.513854  1.000000  0.780115  0.754662   \n",
       "salary    0.449923 -0.095544  0.660559  0.780115  1.000000  0.880117   \n",
       "salbegin  0.456676  0.007812  0.633196  0.754662  0.880117  1.000000   \n",
       "jobtime   0.066467 -0.998186  0.047379  0.005329  0.084092 -0.019753   \n",
       "prevexp   0.164857 -0.003417 -0.252353  0.062645 -0.097467  0.045136   \n",
       "minority  0.075668 -0.032338 -0.132889 -0.143781 -0.177337 -0.157598   \n",
       "\n",
       "           jobtime   prevexp  minority  \n",
       "gender    0.066467  0.164857  0.075668  \n",
       "id       -0.998186 -0.003417 -0.032338  \n",
       "educ      0.047379 -0.252353 -0.132889  \n",
       "jobcat    0.005329  0.062645 -0.143781  \n",
       "salary    0.084092 -0.097467 -0.177337  \n",
       "salbegin -0.019753  0.045136 -0.157598  \n",
       "jobtime   1.000000  0.002978  0.049501  \n",
       "prevexp   0.002978  1.000000  0.144747  \n",
       "minority  0.049501  0.144747  1.000000  "
      ]
     },
     "execution_count": 52,
     "metadata": {},
     "output_type": "execute_result"
    }
   ],
   "source": [
    "#correlation amongst variables in new employee data\n",
    "employee_data_new.corr()"
   ]
  },
  {
   "cell_type": "code",
   "execution_count": null,
   "id": "cd653a86",
   "metadata": {},
   "outputs": [],
   "source": [
    "educ, jobcat and salbegin show positive relationship to salary, with salbegin showing the strongest positive correlation.\n",
    "We can infer from this relationship that salbegin is the base or start salary of employees upon which subsequent \n",
    "increments or bonuses are applied. "
   ]
  },
  {
   "cell_type": "code",
   "execution_count": 68,
   "id": "907991c5",
   "metadata": {},
   "outputs": [
    {
     "data": {
      "text/plain": [
       "<seaborn.axisgrid.JointGrid at 0x1d6c7432220>"
      ]
     },
     "execution_count": 68,
     "metadata": {},
     "output_type": "execute_result"
    },
    {
     "data": {
      "image/png": "[encoded data removed]",
      "text/plain": [
       "<Figure size 432x432 with 3 Axes>"
      ]
     },
     "metadata": {
      "needs_background": "light"
     },
     "output_type": "display_data"
    }
   ],
   "source": [
    "# visuals showing the relationship between salbegin and salary\n",
    "\n",
    "sns.jointplot(x = 'salary', y = 'salbegin', data=employee_data_new)"
   ]
  },
  {
   "cell_type": "markdown",
   "id": "61683855",
   "metadata": {},
   "source": [
    "The jointplot below shows positive relationship between salbegin and salary. There are also no employees with  salary \n",
    "below the salbegin as show in the jointplot above. This suggests the presence of a generic bonus(increments)- a reward for\n",
    "'team performance'. This business rewards team play."
   ]
  },
  {
   "cell_type": "code",
   "execution_count": 67,
   "id": "dd93b0cc",
   "metadata": {},
   "outputs": [
    {
     "data": {
      "image/png": "[encoded data removed]",
      "text/plain": [
       "<Figure size 960x800 with 2 Axes>"
      ]
     },
     "metadata": {
      "needs_background": "light"
     },
     "output_type": "display_data"
    }
   ],
   "source": [
    "#running correlation with independent variables\n",
    "my_data = employee_data_new[[\"gender\", \"educ\", \"jobcat\", \"salbegin\", \"salary\"]]\n",
    "my_data.corr().round(2)\n",
    "\n",
    "# Plot\n",
    "plt.figure(figsize=(12,10), dpi= 80)\n",
    "sns.heatmap(my_data.corr(), xticklabels=my_data.corr().columns, yticklabels=my_data.corr().columns, cmap='RdYlGn', center=0, annot=True)\n",
    "\n",
    "# Decorations\n",
    "plt.title('Correlogram of Question2', fontsize=22)\n",
    "plt.xticks(fontsize=12)\n",
    "plt.yticks(fontsize=12)\n",
    "plt.show()"
   ]
  },
  {
   "cell_type": "markdown",
   "id": "8c43ac68",
   "metadata": {},
   "source": [
    "salbegin, jobcat, educ were significantly correlated with salary and will be used in our regression analysis."
   ]
  },
  {
   "cell_type": "code",
   "execution_count": 82,
   "id": "d743a5a1",
   "metadata": {},
   "outputs": [
    {
     "data": {
      "text/html": [
       "<div>\n",
       "<style scoped>\n",
       "    .dataframe tbody tr th:only-of-type {\n",
       "        vertical-align: middle;\n",
       "    }\n",
       "\n",
       "    .dataframe tbody tr th {\n",
       "        vertical-align: top;\n",
       "    }\n",
       "\n",
       "    .dataframe thead th {\n",
       "        text-align: right;\n",
       "    }\n",
       "</style>\n",
       "<table border=\"1\" class=\"dataframe\">\n",
       "  <thead>\n",
       "    <tr style=\"text-align: right;\">\n",
       "      <th></th>\n",
       "      <th>gender</th>\n",
       "      <th>id</th>\n",
       "      <th>educ</th>\n",
       "      <th>jobcat</th>\n",
       "      <th>salary</th>\n",
       "      <th>salbegin</th>\n",
       "      <th>jobtime</th>\n",
       "      <th>prevexp</th>\n",
       "      <th>minority</th>\n",
       "    </tr>\n",
       "  </thead>\n",
       "  <tbody>\n",
       "    <tr>\n",
       "      <th>293</th>\n",
       "      <td>0</td>\n",
       "      <td>378</td>\n",
       "      <td>8</td>\n",
       "      <td>1</td>\n",
       "      <td>15750</td>\n",
       "      <td>10200</td>\n",
       "      <td>70</td>\n",
       "      <td>275</td>\n",
       "      <td>0</td>\n",
       "    </tr>\n",
       "    <tr>\n",
       "      <th>263</th>\n",
       "      <td>0</td>\n",
       "      <td>338</td>\n",
       "      <td>8</td>\n",
       "      <td>1</td>\n",
       "      <td>15900</td>\n",
       "      <td>10200</td>\n",
       "      <td>74</td>\n",
       "      <td>43</td>\n",
       "      <td>0</td>\n",
       "    </tr>\n",
       "    <tr>\n",
       "      <th>71</th>\n",
       "      <td>0</td>\n",
       "      <td>90</td>\n",
       "      <td>8</td>\n",
       "      <td>1</td>\n",
       "      <td>16200</td>\n",
       "      <td>9750</td>\n",
       "      <td>92</td>\n",
       "      <td>0</td>\n",
       "      <td>0</td>\n",
       "    </tr>\n",
       "    <tr>\n",
       "      <th>165</th>\n",
       "      <td>0</td>\n",
       "      <td>224</td>\n",
       "      <td>12</td>\n",
       "      <td>1</td>\n",
       "      <td>16200</td>\n",
       "      <td>10200</td>\n",
       "      <td>82</td>\n",
       "      <td>0</td>\n",
       "      <td>0</td>\n",
       "    </tr>\n",
       "    <tr>\n",
       "      <th>319</th>\n",
       "      <td>0</td>\n",
       "      <td>411</td>\n",
       "      <td>12</td>\n",
       "      <td>1</td>\n",
       "      <td>16200</td>\n",
       "      <td>10200</td>\n",
       "      <td>68</td>\n",
       "      <td>180</td>\n",
       "      <td>0</td>\n",
       "    </tr>\n",
       "    <tr>\n",
       "      <th>...</th>\n",
       "      <td>...</td>\n",
       "      <td>...</td>\n",
       "      <td>...</td>\n",
       "      <td>...</td>\n",
       "      <td>...</td>\n",
       "      <td>...</td>\n",
       "      <td>...</td>\n",
       "      <td>...</td>\n",
       "      <td>...</td>\n",
       "    </tr>\n",
       "    <tr>\n",
       "      <th>469</th>\n",
       "      <td>1</td>\n",
       "      <td>446</td>\n",
       "      <td>16</td>\n",
       "      <td>3</td>\n",
       "      <td>100000</td>\n",
       "      <td>44100</td>\n",
       "      <td>66</td>\n",
       "      <td>128</td>\n",
       "      <td>1</td>\n",
       "    </tr>\n",
       "    <tr>\n",
       "      <th>266</th>\n",
       "      <td>1</td>\n",
       "      <td>343</td>\n",
       "      <td>16</td>\n",
       "      <td>3</td>\n",
       "      <td>103500</td>\n",
       "      <td>60000</td>\n",
       "      <td>73</td>\n",
       "      <td>150</td>\n",
       "      <td>0</td>\n",
       "    </tr>\n",
       "    <tr>\n",
       "      <th>14</th>\n",
       "      <td>1</td>\n",
       "      <td>18</td>\n",
       "      <td>16</td>\n",
       "      <td>3</td>\n",
       "      <td>103750</td>\n",
       "      <td>27510</td>\n",
       "      <td>97</td>\n",
       "      <td>70</td>\n",
       "      <td>0</td>\n",
       "    </tr>\n",
       "    <tr>\n",
       "      <th>24</th>\n",
       "      <td>1</td>\n",
       "      <td>32</td>\n",
       "      <td>19</td>\n",
       "      <td>3</td>\n",
       "      <td>110625</td>\n",
       "      <td>45000</td>\n",
       "      <td>96</td>\n",
       "      <td>120</td>\n",
       "      <td>0</td>\n",
       "    </tr>\n",
       "    <tr>\n",
       "      <th>21</th>\n",
       "      <td>1</td>\n",
       "      <td>29</td>\n",
       "      <td>19</td>\n",
       "      <td>3</td>\n",
       "      <td>135000</td>\n",
       "      <td>79980</td>\n",
       "      <td>96</td>\n",
       "      <td>199</td>\n",
       "      <td>0</td>\n",
       "    </tr>\n",
       "  </tbody>\n",
       "</table>\n",
       "<p>474 rows × 9 columns</p>\n",
       "</div>"
      ],
      "text/plain": [
       "     gender   id  educ  jobcat  salary  salbegin  jobtime  prevexp  minority\n",
       "293       0  378     8       1   15750     10200       70      275         0\n",
       "263       0  338     8       1   15900     10200       74       43         0\n",
       "71        0   90     8       1   16200      9750       92        0         0\n",
       "165       0  224    12       1   16200     10200       82        0         0\n",
       "319       0  411    12       1   16200     10200       68      180         0\n",
       "..      ...  ...   ...     ...     ...       ...      ...      ...       ...\n",
       "469       1  446    16       3  100000     44100       66      128         1\n",
       "266       1  343    16       3  103500     60000       73      150         0\n",
       "14        1   18    16       3  103750     27510       97       70         0\n",
       "24        1   32    19       3  110625     45000       96      120         0\n",
       "21        1   29    19       3  135000     79980       96      199         0\n",
       "\n",
       "[474 rows x 9 columns]"
      ]
     },
     "execution_count": 82,
     "metadata": {},
     "output_type": "execute_result"
    }
   ],
   "source": [
    "# reviewing jobcat relationship to salary\n",
    "employee_data_new.sort_values(by = [\"jobcat\", \"salary\"], ascending = True)\n"
   ]
  },
  {
   "cell_type": "code",
   "execution_count": null,
   "id": "0b6635d6",
   "metadata": {},
   "outputs": [],
   "source": [
    "There seem to be a bias against the female gender as the top five earners are male and  least earners are females.\n",
    "\n",
    "jobcat is a categorisation of employees where category 3 are the highest earners and category 1 are the lowest earners.\n",
    "jobcat can be taken as the job category which influences the base salary of an employee (these two variables are\n",
    "are positively correlated). \n"
   ]
  },
  {
   "cell_type": "code",
   "execution_count": 103,
   "id": "be8814e5",
   "metadata": {},
   "outputs": [
    {
     "name": "stdout",
     "output_type": "stream",
     "text": [
      "     gender   id  educ  jobcat  salary  salbegin  jobtime  prevexp  minority\n",
      "2         0    3    12       1   21450     12000       98      381         0\n",
      "3         0    4     8       1   21900     13200       98      190         0\n",
      "7         0    8    12       1   21900      9750       98        0         0\n",
      "8         0    9    15       1   27900     12750       98      115         0\n",
      "9         0   10    12       1   24000     13500       98      244         0\n",
      "..      ...  ...   ...     ...     ...       ...      ...      ...       ...\n",
      "457       0  384    12       1   20850     13050       70      127         1\n",
      "458       0  403    12       1   21300     11250       69        3         1\n",
      "459       0  404    12       1   24300     15000       69      121         1\n",
      "460       0  405    12       1   19650     13950       69      133         1\n",
      "471       0  448    12       1   16350     10200       66      163         1\n",
      "\n",
      "[216 rows x 9 columns]\n"
     ]
    }
   ],
   "source": [
    "#getting more insights from the female employee statistics\n",
    "female_employee = employee_data_new.loc[:,:] [employee_data_new.loc[:,\"gender\"] == 0]\n",
    "print(female_employee)"
   ]
  },
  {
   "cell_type": "code",
   "execution_count": 104,
   "id": "75ab6ec3",
   "metadata": {},
   "outputs": [
    {
     "data": {
      "text/html": [
       "<div>\n",
       "<style scoped>\n",
       "    .dataframe tbody tr th:only-of-type {\n",
       "        vertical-align: middle;\n",
       "    }\n",
       "\n",
       "    .dataframe tbody tr th {\n",
       "        vertical-align: top;\n",
       "    }\n",
       "\n",
       "    .dataframe thead th {\n",
       "        text-align: right;\n",
       "    }\n",
       "</style>\n",
       "<table border=\"1\" class=\"dataframe\">\n",
       "  <thead>\n",
       "    <tr style=\"text-align: right;\">\n",
       "      <th></th>\n",
       "      <th>gender</th>\n",
       "      <th>id</th>\n",
       "      <th>educ</th>\n",
       "      <th>jobcat</th>\n",
       "      <th>salary</th>\n",
       "      <th>salbegin</th>\n",
       "      <th>jobtime</th>\n",
       "      <th>prevexp</th>\n",
       "      <th>minority</th>\n",
       "    </tr>\n",
       "  </thead>\n",
       "  <tbody>\n",
       "    <tr>\n",
       "      <th>count</th>\n",
       "      <td>216.0</td>\n",
       "      <td>216.000000</td>\n",
       "      <td>216.000000</td>\n",
       "      <td>216.000000</td>\n",
       "      <td>216.000000</td>\n",
       "      <td>216.000000</td>\n",
       "      <td>216.000000</td>\n",
       "      <td>216.000000</td>\n",
       "      <td>216.000000</td>\n",
       "    </tr>\n",
       "    <tr>\n",
       "      <th>mean</th>\n",
       "      <td>0.0</td>\n",
       "      <td>249.384259</td>\n",
       "      <td>12.370370</td>\n",
       "      <td>1.092593</td>\n",
       "      <td>26031.921296</td>\n",
       "      <td>13091.967593</td>\n",
       "      <td>80.379630</td>\n",
       "      <td>77.037037</td>\n",
       "      <td>0.185185</td>\n",
       "    </tr>\n",
       "    <tr>\n",
       "      <th>std</th>\n",
       "      <td>0.0</td>\n",
       "      <td>131.130737</td>\n",
       "      <td>2.319152</td>\n",
       "      <td>0.421228</td>\n",
       "      <td>7558.021452</td>\n",
       "      <td>2935.599213</td>\n",
       "      <td>9.676361</td>\n",
       "      <td>95.012061</td>\n",
       "      <td>0.389350</td>\n",
       "    </tr>\n",
       "    <tr>\n",
       "      <th>min</th>\n",
       "      <td>0.0</td>\n",
       "      <td>3.000000</td>\n",
       "      <td>8.000000</td>\n",
       "      <td>1.000000</td>\n",
       "      <td>15750.000000</td>\n",
       "      <td>9000.000000</td>\n",
       "      <td>63.000000</td>\n",
       "      <td>0.000000</td>\n",
       "      <td>0.000000</td>\n",
       "    </tr>\n",
       "    <tr>\n",
       "      <th>25%</th>\n",
       "      <td>0.0</td>\n",
       "      <td>141.750000</td>\n",
       "      <td>12.000000</td>\n",
       "      <td>1.000000</td>\n",
       "      <td>21562.500000</td>\n",
       "      <td>11193.750000</td>\n",
       "      <td>72.000000</td>\n",
       "      <td>7.000000</td>\n",
       "      <td>0.000000</td>\n",
       "    </tr>\n",
       "    <tr>\n",
       "      <th>50%</th>\n",
       "      <td>0.0</td>\n",
       "      <td>247.500000</td>\n",
       "      <td>12.000000</td>\n",
       "      <td>1.000000</td>\n",
       "      <td>24300.000000</td>\n",
       "      <td>12375.000000</td>\n",
       "      <td>81.000000</td>\n",
       "      <td>32.000000</td>\n",
       "      <td>0.000000</td>\n",
       "    </tr>\n",
       "    <tr>\n",
       "      <th>75%</th>\n",
       "      <td>0.0</td>\n",
       "      <td>360.250000</td>\n",
       "      <td>15.000000</td>\n",
       "      <td>1.000000</td>\n",
       "      <td>28500.000000</td>\n",
       "      <td>14250.000000</td>\n",
       "      <td>88.000000</td>\n",
       "      <td>122.250000</td>\n",
       "      <td>0.000000</td>\n",
       "    </tr>\n",
       "    <tr>\n",
       "      <th>max</th>\n",
       "      <td>0.0</td>\n",
       "      <td>474.000000</td>\n",
       "      <td>17.000000</td>\n",
       "      <td>3.000000</td>\n",
       "      <td>58125.000000</td>\n",
       "      <td>30000.000000</td>\n",
       "      <td>98.000000</td>\n",
       "      <td>412.000000</td>\n",
       "      <td>1.000000</td>\n",
       "    </tr>\n",
       "  </tbody>\n",
       "</table>\n",
       "</div>"
      ],
      "text/plain": [
       "       gender          id        educ      jobcat        salary      salbegin  \\\n",
       "count   216.0  216.000000  216.000000  216.000000    216.000000    216.000000   \n",
       "mean      0.0  249.384259   12.370370    1.092593  26031.921296  13091.967593   \n",
       "std       0.0  131.130737    2.319152    0.421228   7558.021452   2935.599213   \n",
       "min       0.0    3.000000    8.000000    1.000000  15750.000000   9000.000000   \n",
       "25%       0.0  141.750000   12.000000    1.000000  21562.500000  11193.750000   \n",
       "50%       0.0  247.500000   12.000000    1.000000  24300.000000  12375.000000   \n",
       "75%       0.0  360.250000   15.000000    1.000000  28500.000000  14250.000000   \n",
       "max       0.0  474.000000   17.000000    3.000000  58125.000000  30000.000000   \n",
       "\n",
       "          jobtime     prevexp    minority  \n",
       "count  216.000000  216.000000  216.000000  \n",
       "mean    80.379630   77.037037    0.185185  \n",
       "std      9.676361   95.012061    0.389350  \n",
       "min     63.000000    0.000000    0.000000  \n",
       "25%     72.000000    7.000000    0.000000  \n",
       "50%     81.000000   32.000000    0.000000  \n",
       "75%     88.000000  122.250000    0.000000  \n",
       "max     98.000000  412.000000    1.000000  "
      ]
     },
     "execution_count": 104,
     "metadata": {},
     "output_type": "execute_result"
    }
   ],
   "source": [
    "#descriptive statistics on female gender data\n",
    "female_employee.describe()"
   ]
  },
  {
   "cell_type": "code",
   "execution_count": 110,
   "id": "4a3f642e",
   "metadata": {},
   "outputs": [
    {
     "data": {
      "text/html": [
       "<div>\n",
       "<style scoped>\n",
       "    .dataframe tbody tr th:only-of-type {\n",
       "        vertical-align: middle;\n",
       "    }\n",
       "\n",
       "    .dataframe tbody tr th {\n",
       "        vertical-align: top;\n",
       "    }\n",
       "\n",
       "    .dataframe thead th {\n",
       "        text-align: right;\n",
       "    }\n",
       "</style>\n",
       "<table border=\"1\" class=\"dataframe\">\n",
       "  <thead>\n",
       "    <tr style=\"text-align: right;\">\n",
       "      <th></th>\n",
       "      <th>gender</th>\n",
       "      <th>id</th>\n",
       "      <th>educ</th>\n",
       "      <th>jobcat</th>\n",
       "      <th>salary</th>\n",
       "      <th>salbegin</th>\n",
       "      <th>jobtime</th>\n",
       "      <th>prevexp</th>\n",
       "      <th>minority</th>\n",
       "    </tr>\n",
       "  </thead>\n",
       "  <tbody>\n",
       "    <tr>\n",
       "      <th>count</th>\n",
       "      <td>258.0</td>\n",
       "      <td>258.000000</td>\n",
       "      <td>258.000000</td>\n",
       "      <td>258.000000</td>\n",
       "      <td>258.000000</td>\n",
       "      <td>258.000000</td>\n",
       "      <td>258.00000</td>\n",
       "      <td>258.000000</td>\n",
       "      <td>258.000000</td>\n",
       "    </tr>\n",
       "    <tr>\n",
       "      <th>mean</th>\n",
       "      <td>1.0</td>\n",
       "      <td>227.550388</td>\n",
       "      <td>14.430233</td>\n",
       "      <td>1.678295</td>\n",
       "      <td>41441.782946</td>\n",
       "      <td>20301.395349</td>\n",
       "      <td>81.72093</td>\n",
       "      <td>111.620155</td>\n",
       "      <td>0.248062</td>\n",
       "    </tr>\n",
       "    <tr>\n",
       "      <th>std</th>\n",
       "      <td>0.0</td>\n",
       "      <td>141.168440</td>\n",
       "      <td>2.979335</td>\n",
       "      <td>0.891592</td>\n",
       "      <td>19499.213736</td>\n",
       "      <td>9111.780867</td>\n",
       "      <td>10.35102</td>\n",
       "      <td>109.692296</td>\n",
       "      <td>0.432727</td>\n",
       "    </tr>\n",
       "    <tr>\n",
       "      <th>min</th>\n",
       "      <td>1.0</td>\n",
       "      <td>1.000000</td>\n",
       "      <td>8.000000</td>\n",
       "      <td>1.000000</td>\n",
       "      <td>19650.000000</td>\n",
       "      <td>9000.000000</td>\n",
       "      <td>63.00000</td>\n",
       "      <td>3.000000</td>\n",
       "      <td>0.000000</td>\n",
       "    </tr>\n",
       "    <tr>\n",
       "      <th>25%</th>\n",
       "      <td>1.0</td>\n",
       "      <td>103.250000</td>\n",
       "      <td>12.000000</td>\n",
       "      <td>1.000000</td>\n",
       "      <td>28050.000000</td>\n",
       "      <td>15000.000000</td>\n",
       "      <td>73.25000</td>\n",
       "      <td>37.250000</td>\n",
       "      <td>0.000000</td>\n",
       "    </tr>\n",
       "    <tr>\n",
       "      <th>50%</th>\n",
       "      <td>1.0</td>\n",
       "      <td>216.500000</td>\n",
       "      <td>15.000000</td>\n",
       "      <td>1.000000</td>\n",
       "      <td>32850.000000</td>\n",
       "      <td>15750.000000</td>\n",
       "      <td>82.00000</td>\n",
       "      <td>67.500000</td>\n",
       "      <td>0.000000</td>\n",
       "    </tr>\n",
       "    <tr>\n",
       "      <th>75%</th>\n",
       "      <td>1.0</td>\n",
       "      <td>342.500000</td>\n",
       "      <td>16.000000</td>\n",
       "      <td>3.000000</td>\n",
       "      <td>50412.500000</td>\n",
       "      <td>22372.500000</td>\n",
       "      <td>91.00000</td>\n",
       "      <td>149.750000</td>\n",
       "      <td>0.000000</td>\n",
       "    </tr>\n",
       "    <tr>\n",
       "      <th>max</th>\n",
       "      <td>1.0</td>\n",
       "      <td>472.000000</td>\n",
       "      <td>21.000000</td>\n",
       "      <td>3.000000</td>\n",
       "      <td>135000.000000</td>\n",
       "      <td>79980.000000</td>\n",
       "      <td>98.00000</td>\n",
       "      <td>476.000000</td>\n",
       "      <td>1.000000</td>\n",
       "    </tr>\n",
       "  </tbody>\n",
       "</table>\n",
       "</div>"
      ],
      "text/plain": [
       "       gender          id        educ      jobcat         salary  \\\n",
       "count   258.0  258.000000  258.000000  258.000000     258.000000   \n",
       "mean      1.0  227.550388   14.430233    1.678295   41441.782946   \n",
       "std       0.0  141.168440    2.979335    0.891592   19499.213736   \n",
       "min       1.0    1.000000    8.000000    1.000000   19650.000000   \n",
       "25%       1.0  103.250000   12.000000    1.000000   28050.000000   \n",
       "50%       1.0  216.500000   15.000000    1.000000   32850.000000   \n",
       "75%       1.0  342.500000   16.000000    3.000000   50412.500000   \n",
       "max       1.0  472.000000   21.000000    3.000000  135000.000000   \n",
       "\n",
       "           salbegin    jobtime     prevexp    minority  \n",
       "count    258.000000  258.00000  258.000000  258.000000  \n",
       "mean   20301.395349   81.72093  111.620155    0.248062  \n",
       "std     9111.780867   10.35102  109.692296    0.432727  \n",
       "min     9000.000000   63.00000    3.000000    0.000000  \n",
       "25%    15000.000000   73.25000   37.250000    0.000000  \n",
       "50%    15750.000000   82.00000   67.500000    0.000000  \n",
       "75%    22372.500000   91.00000  149.750000    0.000000  \n",
       "max    79980.000000   98.00000  476.000000    1.000000  "
      ]
     },
     "execution_count": 110,
     "metadata": {},
     "output_type": "execute_result"
    }
   ],
   "source": [
    "male_employee = employee_data_new.loc[:,:] [employee_data_new.loc[:,\"gender\"] == 1]\n",
    "male_employee.describe()"
   ]
  },
  {
   "cell_type": "code",
   "execution_count": null,
   "id": "dcffe086",
   "metadata": {},
   "outputs": [],
   "source": [
    "educ is positively correlated to salary and jobcat(job category). We assume this variable refers the level of the \n",
    "education (qualification) of the employee.\n",
    "\n",
    "Upon further analysis, average salaries for the female is 26,032 compared to 41,441 for a male employee. \n",
    "This pattern is same for level of education and base salary(salbegin) which has a lower averages for the female employee\n",
    "compared to a male even both gender have put in about same period of time on the job on the average.\n"
   ]
  },
  {
   "cell_type": "code",
   "execution_count": 55,
   "id": "65a96ef8",
   "metadata": {},
   "outputs": [
    {
     "data": {
      "text/plain": [
       "<seaborn.axisgrid.JointGrid at 0x1d6c430afa0>"
      ]
     },
     "execution_count": 55,
     "metadata": {},
     "output_type": "execute_result"
    },
    {
     "data": {
      "image/png": "[encoded data removed]",
      "text/plain": [
       "<Figure size 432x432 with 3 Axes>"
      ]
     },
     "metadata": {
      "needs_background": "light"
     },
     "output_type": "display_data"
    }
   ],
   "source": [
    "# visuals between id and jobtime\n",
    "\n",
    "sns.jointplot(x = 'jobtime', y = 'id', data=employee_data_new)"
   ]
  },
  {
   "cell_type": "markdown",
   "id": "4840860c",
   "metadata": {},
   "source": [
    "There is a strong negative relationship (correlation) between id and jobtime (shown in the jointplot above). We can reasonably conclude that id is employee identity number while jobtime is time spent so far on the job by each employee(expressed in weeks or months). Consequently, the first employee with identity number 1 would have spent the longest time spent as an employee which is 98 weeks for employee data.\n",
    "\n",
    "prevexp seems to be the previous work experience but is not correlated with salary. Our conclusion is that previous work experience is not a key factor in sourcing majority of employees. There is preference for young and more energetic recruits on a generic scale. This leads us to conclude that employee data is from a professional sports business.\n"
   ]
  },
  {
   "cell_type": "code",
   "execution_count": 113,
   "id": "4bd480e8",
   "metadata": {},
   "outputs": [
    {
     "name": "stdout",
     "output_type": "stream",
     "text": [
      "<class 'pandas.core.frame.DataFrame'>\n",
      "RangeIndex: 474 entries, 0 to 473\n",
      "Data columns (total 9 columns):\n",
      " #   Column        Non-Null Count  Dtype\n",
      "---  ------        --------------  -----\n",
      " 0   gender        474 non-null    uint8\n",
      " 1   staff_id      474 non-null    int64\n",
      " 2   level_educ    474 non-null    int64\n",
      " 3   job_category  474 non-null    int64\n",
      " 4   salary        474 non-null    int64\n",
      " 5   base_salary   474 non-null    int64\n",
      " 6   job_exp       474 non-null    int64\n",
      " 7   prev_exp      474 non-null    int64\n",
      " 8   minority      474 non-null    int64\n",
      "dtypes: int64(8), uint8(1)\n",
      "memory usage: 30.2 KB\n"
     ]
    }
   ],
   "source": [
    "#Renaming column header of new employee data\n",
    "employee_data_new.rename(columns = {'id': 'staff_id','educ': 'level_educ', 'jobcat':'job_category', 'salbegin': 'base_salary', 'jobtime': 'job_exp', 'prevexp': 'prev_exp'}, inplace = True)\n",
    "employee_data_new.info()"
   ]
  },
  {
   "cell_type": "code",
   "execution_count": 114,
   "id": "5defe7ec",
   "metadata": {},
   "outputs": [
    {
     "name": "stderr",
     "output_type": "stream",
     "text": [
      "C:\\ProgramData\\Anaconda3\\lib\\site-packages\\statsmodels\\tsa\\tsatools.py:142: FutureWarning: In a future version of pandas all arguments of concat except for the argument 'objs' will be keyword-only\n",
      "  x = pd.concat(x[::order], 1)\n"
     ]
    },
    {
     "data": {
      "text/html": [
       "<table class=\"simpletable\">\n",
       "<caption>OLS Regression Results</caption>\n",
       "<tr>\n",
       "  <th>Dep. Variable:</th>         <td>salary</td>      <th>  R-squared:         </th> <td>   0.821</td> \n",
       "</tr>\n",
       "<tr>\n",
       "  <th>Model:</th>                   <td>OLS</td>       <th>  Adj. R-squared:    </th> <td>   0.819</td> \n",
       "</tr>\n",
       "<tr>\n",
       "  <th>Method:</th>             <td>Least Squares</td>  <th>  F-statistic:       </th> <td>   716.2</td> \n",
       "</tr>\n",
       "<tr>\n",
       "  <th>Date:</th>             <td>Fri, 13 May 2022</td> <th>  Prob (F-statistic):</th> <td>7.82e-175</td>\n",
       "</tr>\n",
       "<tr>\n",
       "  <th>Time:</th>                 <td>23:59:16</td>     <th>  Log-Likelihood:    </th> <td> -4884.3</td> \n",
       "</tr>\n",
       "<tr>\n",
       "  <th>No. Observations:</th>      <td>   474</td>      <th>  AIC:               </th> <td>   9777.</td> \n",
       "</tr>\n",
       "<tr>\n",
       "  <th>Df Residuals:</th>          <td>   470</td>      <th>  BIC:               </th> <td>   9793.</td> \n",
       "</tr>\n",
       "<tr>\n",
       "  <th>Df Model:</th>              <td>     3</td>      <th>                     </th>     <td> </td>    \n",
       "</tr>\n",
       "<tr>\n",
       "  <th>Covariance Type:</th>      <td>nonrobust</td>    <th>                     </th>     <td> </td>    \n",
       "</tr>\n",
       "</table>\n",
       "<table class=\"simpletable\">\n",
       "<tr>\n",
       "        <td></td>          <th>coef</th>     <th>std err</th>      <th>t</th>      <th>P>|t|</th>  <th>[0.025</th>    <th>0.975]</th>  \n",
       "</tr>\n",
       "<tr>\n",
       "  <th>const</th>        <td>-7786.9699</td> <td> 1632.558</td> <td>   -4.770</td> <td> 0.000</td> <td> -1.1e+04</td> <td>-4578.953</td>\n",
       "</tr>\n",
       "<tr>\n",
       "  <th>base_salary</th>  <td>    1.2744</td> <td>    0.072</td> <td>   17.749</td> <td> 0.000</td> <td>    1.133</td> <td>    1.415</td>\n",
       "</tr>\n",
       "<tr>\n",
       "  <th>job_category</th> <td> 5657.0181</td> <td>  659.427</td> <td>    8.579</td> <td> 0.000</td> <td> 4361.229</td> <td> 6952.807</td>\n",
       "</tr>\n",
       "<tr>\n",
       "  <th>level_educ</th>   <td>  929.2638</td> <td>  149.823</td> <td>    6.202</td> <td> 0.000</td> <td>  634.858</td> <td> 1223.670</td>\n",
       "</tr>\n",
       "</table>\n",
       "<table class=\"simpletable\">\n",
       "<tr>\n",
       "  <th>Omnibus:</th>       <td>203.100</td> <th>  Durbin-Watson:     </th> <td>   1.743</td>\n",
       "</tr>\n",
       "<tr>\n",
       "  <th>Prob(Omnibus):</th> <td> 0.000</td>  <th>  Jarque-Bera (JB):  </th> <td>1699.390</td>\n",
       "</tr>\n",
       "<tr>\n",
       "  <th>Skew:</th>          <td> 1.639</td>  <th>  Prob(JB):          </th> <td>    0.00</td>\n",
       "</tr>\n",
       "<tr>\n",
       "  <th>Kurtosis:</th>      <td>11.678</td>  <th>  Cond. No.          </th> <td>9.21e+04</td>\n",
       "</tr>\n",
       "</table><br/><br/>Notes:<br/>[1] Standard Errors assume that the covariance matrix of the errors is correctly specified.<br/>[2] The condition number is large, 9.21e+04. This might indicate that there are<br/>strong multicollinearity or other numerical problems."
      ],
      "text/plain": [
       "<class 'statsmodels.iolib.summary.Summary'>\n",
       "\"\"\"\n",
       "                            OLS Regression Results                            \n",
       "==============================================================================\n",
       "Dep. Variable:                 salary   R-squared:                       0.821\n",
       "Model:                            OLS   Adj. R-squared:                  0.819\n",
       "Method:                 Least Squares   F-statistic:                     716.2\n",
       "Date:                Fri, 13 May 2022   Prob (F-statistic):          7.82e-175\n",
       "Time:                        23:59:16   Log-Likelihood:                -4884.3\n",
       "No. Observations:                 474   AIC:                             9777.\n",
       "Df Residuals:                     470   BIC:                             9793.\n",
       "Df Model:                           3                                         \n",
       "Covariance Type:            nonrobust                                         \n",
       "================================================================================\n",
       "                   coef    std err          t      P>|t|      [0.025      0.975]\n",
       "--------------------------------------------------------------------------------\n",
       "const        -7786.9699   1632.558     -4.770      0.000    -1.1e+04   -4578.953\n",
       "base_salary      1.2744      0.072     17.749      0.000       1.133       1.415\n",
       "job_category  5657.0181    659.427      8.579      0.000    4361.229    6952.807\n",
       "level_educ     929.2638    149.823      6.202      0.000     634.858    1223.670\n",
       "==============================================================================\n",
       "Omnibus:                      203.100   Durbin-Watson:                   1.743\n",
       "Prob(Omnibus):                  0.000   Jarque-Bera (JB):             1699.390\n",
       "Skew:                           1.639   Prob(JB):                         0.00\n",
       "Kurtosis:                      11.678   Cond. No.                     9.21e+04\n",
       "==============================================================================\n",
       "\n",
       "Notes:\n",
       "[1] Standard Errors assume that the covariance matrix of the errors is correctly specified.\n",
       "[2] The condition number is large, 9.21e+04. This might indicate that there are\n",
       "strong multicollinearity or other numerical problems.\n",
       "\"\"\""
      ]
     },
     "execution_count": 114,
     "metadata": {},
     "output_type": "execute_result"
    }
   ],
   "source": [
    "#inititiating libraries for regression\n",
    "import statsmodels.formula.api as smf\n",
    "import statsmodels.api as sm\n",
    "\n",
    "\n",
    "# running a multivariate regression with statsmodel for new employee data\n",
    "x = employee_data_new[['base_salary', 'job_category', 'level_educ']]\n",
    "y = employee_data_new['salary']\n",
    "# fit a OLS model \n",
    "x = sm.add_constant(x)\n",
    "est = sm.OLS(y, x).fit()\n",
    "est.summary()\n",
    "\n"
   ]
  },
  {
   "cell_type": "markdown",
   "id": "bc020fc8",
   "metadata": {},
   "source": [
    "The R-square is 82%. This is the proportion of variance explained collectively by the independent variables- base_salary, job_category and level_educ account. \n",
    "There is multi-collinearity in the data-set (base_salary, job_category and level_educ are correlated). Hence the need to eliminate some variables in order to increase the reliability of inferences from this regression.\n"
   ]
  },
  {
   "cell_type": "code",
   "execution_count": 116,
   "id": "f8633e30",
   "metadata": {
    "scrolled": true
   },
   "outputs": [
    {
     "name": "stderr",
     "output_type": "stream",
     "text": [
      "C:\\ProgramData\\Anaconda3\\lib\\site-packages\\statsmodels\\tsa\\tsatools.py:142: FutureWarning: In a future version of pandas all arguments of concat except for the argument 'objs' will be keyword-only\n",
      "  x = pd.concat(x[::order], 1)\n"
     ]
    },
    {
     "data": {
      "text/html": [
       "<table class=\"simpletable\">\n",
       "<caption>OLS Regression Results</caption>\n",
       "<tr>\n",
       "  <th>Dep. Variable:</th>         <td>salary</td>      <th>  R-squared:         </th> <td>   0.775</td> \n",
       "</tr>\n",
       "<tr>\n",
       "  <th>Model:</th>                   <td>OLS</td>       <th>  Adj. R-squared:    </th> <td>   0.774</td> \n",
       "</tr>\n",
       "<tr>\n",
       "  <th>Method:</th>             <td>Least Squares</td>  <th>  F-statistic:       </th> <td>   1622.</td> \n",
       "</tr>\n",
       "<tr>\n",
       "  <th>Date:</th>             <td>Sat, 14 May 2022</td> <th>  Prob (F-statistic):</th> <td>8.20e-155</td>\n",
       "</tr>\n",
       "<tr>\n",
       "  <th>Time:</th>                 <td>16:09:08</td>     <th>  Log-Likelihood:    </th> <td> -4938.3</td> \n",
       "</tr>\n",
       "<tr>\n",
       "  <th>No. Observations:</th>      <td>   474</td>      <th>  AIC:               </th> <td>   9881.</td> \n",
       "</tr>\n",
       "<tr>\n",
       "  <th>Df Residuals:</th>          <td>   472</td>      <th>  BIC:               </th> <td>   9889.</td> \n",
       "</tr>\n",
       "<tr>\n",
       "  <th>Df Model:</th>              <td>     1</td>      <th>                     </th>     <td> </td>    \n",
       "</tr>\n",
       "<tr>\n",
       "  <th>Covariance Type:</th>      <td>nonrobust</td>    <th>                     </th>     <td> </td>    \n",
       "</tr>\n",
       "</table>\n",
       "<table class=\"simpletable\">\n",
       "<tr>\n",
       "       <td></td>          <th>coef</th>     <th>std err</th>      <th>t</th>      <th>P>|t|</th>  <th>[0.025</th>    <th>0.975]</th>  \n",
       "</tr>\n",
       "<tr>\n",
       "  <th>const</th>       <td> 1928.2058</td> <td>  888.680</td> <td>    2.170</td> <td> 0.031</td> <td>  181.947</td> <td> 3674.464</td>\n",
       "</tr>\n",
       "<tr>\n",
       "  <th>base_salary</th> <td>    1.9094</td> <td>    0.047</td> <td>   40.276</td> <td> 0.000</td> <td>    1.816</td> <td>    2.003</td>\n",
       "</tr>\n",
       "</table>\n",
       "<table class=\"simpletable\">\n",
       "<tr>\n",
       "  <th>Omnibus:</th>       <td>199.258</td> <th>  Durbin-Watson:     </th> <td>   1.819</td>\n",
       "</tr>\n",
       "<tr>\n",
       "  <th>Prob(Omnibus):</th> <td> 0.000</td>  <th>  Jarque-Bera (JB):  </th> <td>1534.909</td>\n",
       "</tr>\n",
       "<tr>\n",
       "  <th>Skew:</th>          <td> 1.630</td>  <th>  Prob(JB):          </th> <td>    0.00</td>\n",
       "</tr>\n",
       "<tr>\n",
       "  <th>Kurtosis:</th>      <td>11.191</td>  <th>  Cond. No.          </th> <td>4.47e+04</td>\n",
       "</tr>\n",
       "</table><br/><br/>Notes:<br/>[1] Standard Errors assume that the covariance matrix of the errors is correctly specified.<br/>[2] The condition number is large, 4.47e+04. This might indicate that there are<br/>strong multicollinearity or other numerical problems."
      ],
      "text/plain": [
       "<class 'statsmodels.iolib.summary.Summary'>\n",
       "\"\"\"\n",
       "                            OLS Regression Results                            \n",
       "==============================================================================\n",
       "Dep. Variable:                 salary   R-squared:                       0.775\n",
       "Model:                            OLS   Adj. R-squared:                  0.774\n",
       "Method:                 Least Squares   F-statistic:                     1622.\n",
       "Date:                Sat, 14 May 2022   Prob (F-statistic):          8.20e-155\n",
       "Time:                        16:09:08   Log-Likelihood:                -4938.3\n",
       "No. Observations:                 474   AIC:                             9881.\n",
       "Df Residuals:                     472   BIC:                             9889.\n",
       "Df Model:                           1                                         \n",
       "Covariance Type:            nonrobust                                         \n",
       "===============================================================================\n",
       "                  coef    std err          t      P>|t|      [0.025      0.975]\n",
       "-------------------------------------------------------------------------------\n",
       "const        1928.2058    888.680      2.170      0.031     181.947    3674.464\n",
       "base_salary     1.9094      0.047     40.276      0.000       1.816       2.003\n",
       "==============================================================================\n",
       "Omnibus:                      199.258   Durbin-Watson:                   1.819\n",
       "Prob(Omnibus):                  0.000   Jarque-Bera (JB):             1534.909\n",
       "Skew:                           1.630   Prob(JB):                         0.00\n",
       "Kurtosis:                      11.191   Cond. No.                     4.47e+04\n",
       "==============================================================================\n",
       "\n",
       "Notes:\n",
       "[1] Standard Errors assume that the covariance matrix of the errors is correctly specified.\n",
       "[2] The condition number is large, 4.47e+04. This might indicate that there are\n",
       "strong multicollinearity or other numerical problems.\n",
       "\"\"\""
      ]
     },
     "execution_count": 116,
     "metadata": {},
     "output_type": "execute_result"
    }
   ],
   "source": [
    "# running a bi-variate regression with base_salary & salary\n",
    "x = employee_data_new[['base_salary']]\n",
    "y = employee_data_new['salary']\n",
    "# fit a OLS model \n",
    "x = sm.add_constant(x)\n",
    "est = sm.OLS(y, x).fit()\n",
    "est.summary()\n"
   ]
  },
  {
   "cell_type": "markdown",
   "id": "934746c5",
   "metadata": {},
   "source": [
    "The proportion of variance for salary that is explained by the base salary is 77.5%.\n",
    "Consequently, base_salary impacts salary the most of the independent variables."
   ]
  },
  {
   "cell_type": "markdown",
   "id": "57343e34",
   "metadata": {},
   "source": [
    "### REFERENCES\n",
    "1. Michael Rueda(2022), Can Professional Sports offer Diversity & Inclusion insight for all Industries? Forbes.com\n",
    "\n",
    "2. How to convert categorical variable to numeric in pandas (2021, December 01) https://www.geeksforgeeks.org/how-to-convert-categorical-variable-to-numeric-in-pandas/"
   ]
  }
 ],
 "metadata": {
  "kernelspec": {
   "display_name": "Python 3 (ipykernel)",
   "language": "python",
   "name": "python3"
  },
  "language_info": {
   "codemirror_mode": {
    "name": "ipython",
    "version": 3
   },
   "file_extension": ".py",
   "mimetype": "text/x-python",
   "name": "python",
   "nbconvert_exporter": "python",
   "pygments_lexer": "ipython3",
   "version": "3.9.7"
  },
  "toc": {
   "base_numbering": 1,
   "nav_menu": {},
   "number_sections": true,
   "sideBar": true,
   "skip_h1_title": false,
   "title_cell": "Table of Contents",
   "title_sidebar": "Contents",
   "toc_cell": false,
   "toc_position": {},
   "toc_section_display": true,
   "toc_window_display": false
  },
  "varInspector": {
   "cols": {
    "lenName": 16,
    "lenType": 16,
    "lenVar": 40
   },
   "kernels_config": {
    "python": {
     "delete_cmd_postfix": "",
     "delete_cmd_prefix": "del ",
     "library": "var_list.py",
     "varRefreshCmd": "print(var_dic_list())"
    },
    "r": {
     "delete_cmd_postfix": ") ",
     "delete_cmd_prefix": "rm(",
     "library": "var_list.r",
     "varRefreshCmd": "cat(var_dic_list()) "
    }
   },
   "types_to_exclude": [
    "module",
    "function",
    "builtin_function_or_method",
    "instance",
    "_Feature"
   ],
   "window_display": false
  }
 },
 "nbformat": 4,
 "nbformat_minor": 5
}
